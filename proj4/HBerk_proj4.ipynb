{
 "cells": [
  {
   "cell_type": "markdown",
   "metadata": {},
   "source": [
    "### Honey Berk - Project 4\n",
    "### Movie Review Document Classifier\n",
    "Using the movie review document classifier discussed in this chapter, generate a list of the 30 features that the classifier finds to be most informative. Can you explain why these particular features are informative? Do you find any of them surprising?"
   ]
  },
  {
   "cell_type": "code",
   "execution_count": 115,
   "metadata": {
    "collapsed": false
   },
   "outputs": [],
   "source": [
    "import nltk\n",
    "from nltk.corpus import movie_reviews as mr\n",
    "from nltk.corpus import stopwords\n",
    "import nltk.classify.util\n",
    "from nltk.classify import NaiveBayesClassifier\n",
    "import random\n",
    "import string\n",
    "import pandas as pd"
   ]
  },
  {
   "cell_type": "markdown",
   "metadata": {},
   "source": [
    "### Read in movie review documents, construct list of top 2,000 words for use in building feature extractor (limited to 2,000 words for processing time)"
   ]
  },
  {
   "cell_type": "code",
   "execution_count": 116,
   "metadata": {
    "collapsed": true
   },
   "outputs": [],
   "source": [
    "# Reference: http://www.nltk.org/book/ch06.html\n",
    "\n",
    "stop = stopwords.words('english')\n",
    "\n",
    "documents = [([w for w in mr.words(i) if w.lower() not in stop \n",
    "               and w.lower() not in string.punctuation], \n",
    "              i.split('/')[0]) for i in mr.fileids()]\n",
    "\n",
    "random.shuffle(documents)\n",
    "\n",
    "all_words = nltk.FreqDist(w.lower() for w in mr.words())\n",
    "word_features = list(all_words)[:2000]"
   ]
  },
  {
   "cell_type": "markdown",
   "metadata": {},
   "source": [
    "### Define feature extractor function that indiciates whether or not top 2,000 words are present in corpus, train and test document classifier"
   ]
  },
  {
   "cell_type": "code",
   "execution_count": 117,
   "metadata": {
    "collapsed": true
   },
   "outputs": [],
   "source": [
    "def document_features(document):\n",
    "    document_words = set(document)\n",
    "    features = {}\n",
    "    for word in word_features:\n",
    "        features['contains({})'.format(word)] = (word in document_words)\n",
    "    return features\n",
    "\n",
    "featuresets = [(document_features(d), c) for (d,c) in documents]\n",
    "train_set, test_set = featuresets[100:], featuresets[:100]\n",
    "classifier = nltk.NaiveBayesClassifier.train(train_set)"
   ]
  },
  {
   "cell_type": "markdown",
   "metadata": {},
   "source": [
    "### Check accuracy, show 30 most informative features"
   ]
  },
  {
   "cell_type": "code",
   "execution_count": 118,
   "metadata": {
    "collapsed": false
   },
   "outputs": [
    {
     "name": "stdout",
     "output_type": "stream",
     "text": [
      "accuracy: 0.73\n",
      "Most Informative Features\n",
      "          contains(sans) = True              neg : pos    =      8.3 : 1.0\n",
      "    contains(mediocrity) = True              neg : pos    =      7.6 : 1.0\n",
      "     contains(dismissed) = True              pos : neg    =      7.1 : 1.0\n",
      "   contains(bruckheimer) = True              neg : pos    =      6.3 : 1.0\n",
      "         contains(wires) = True              neg : pos    =      6.3 : 1.0\n",
      "     contains(uplifting) = True              pos : neg    =      6.2 : 1.0\n",
      "           contains(ugh) = True              neg : pos    =      5.8 : 1.0\n",
      "       contains(topping) = True              pos : neg    =      5.7 : 1.0\n",
      "        contains(fabric) = True              pos : neg    =      5.7 : 1.0\n",
      "   contains(overwhelmed) = True              pos : neg    =      5.7 : 1.0\n",
      "   contains(nonsensical) = True              neg : pos    =      5.6 : 1.0\n",
      "      contains(attorney) = True              pos : neg    =      5.6 : 1.0\n",
      "  contains(effortlessly) = True              pos : neg    =      5.6 : 1.0\n",
      "        contains(doubts) = True              pos : neg    =      5.4 : 1.0\n",
      "          contains(wits) = True              pos : neg    =      5.0 : 1.0\n",
      "          contains(lang) = True              pos : neg    =      5.0 : 1.0\n",
      "      contains(recycles) = True              neg : pos    =      5.0 : 1.0\n",
      "         contains(crowe) = True              pos : neg    =      4.6 : 1.0\n",
      "          contains(hugo) = True              pos : neg    =      4.6 : 1.0\n",
      "         contains(tripe) = True              neg : pos    =      4.6 : 1.0\n",
      "   contains(understands) = True              pos : neg    =      4.5 : 1.0\n",
      "      contains(matheson) = True              pos : neg    =      4.4 : 1.0\n",
      "      contains(prescott) = True              pos : neg    =      4.4 : 1.0\n",
      "         contains(spins) = True              pos : neg    =      4.4 : 1.0\n",
      "          contains(wang) = True              pos : neg    =      4.4 : 1.0\n",
      "       contains(quicker) = True              neg : pos    =      4.3 : 1.0\n",
      "       contains(maxwell) = True              neg : pos    =      4.3 : 1.0\n",
      "         contains(gooey) = True              neg : pos    =      4.3 : 1.0\n",
      "    contains(cronenberg) = True              pos : neg    =      4.2 : 1.0\n",
      "    contains(derivative) = True              neg : pos    =      3.9 : 1.0\n"
     ]
    }
   ],
   "source": [
    "print 'accuracy:', nltk.classify.accuracy(classifier, test_set)\n",
    "classifier.show_most_informative_features(30)"
   ]
  },
  {
   "cell_type": "markdown",
   "metadata": {},
   "source": [
    "### Sampling of explanations as to why features are informative (classifier1, 73.0% accuracy)"
   ]
  },
  {
   "cell_type": "markdown",
   "metadata": {},
   "source": [
    "Word | Sentiment | Explanation\n",
    "-------------|-------------|------------|\n",
    "sans | neg |Means 'without' in French; perhaps referring to a missing positive quality (e.g., sans good acting)\n",
    "mediocrity | neg |No surprise here, mediocrity is not a desired quantity for a movie\n",
    "uplifting| pos | Also not a surprise, uplifting movies make people feel good\n",
    "overwhelmed | neg |Not sure why this would be positive, this one is a surprise\n",
    "ugh |neg |My favorite review word!\n",
    "Bruckheimer | neg | Googled his Jerry Bruckheimer's movies, and then I understood -- early films were good, more recent, bad."
   ]
  },
  {
   "cell_type": "markdown",
   "metadata": {},
   "source": [
    "### Altnerate document classifier (negative vs. positive words)"
   ]
  },
  {
   "cell_type": "code",
   "execution_count": 119,
   "metadata": {
    "collapsed": false
   },
   "outputs": [
    {
     "name": "stdout",
     "output_type": "stream",
     "text": [
      "accuracy: 0.912\n",
      "Most Informative Features\n",
      "                  evokes = True              pos : neg    =     20.8 : 1.0\n",
      "                   russo = True              pos : neg    =     20.8 : 1.0\n",
      "                unshaven = True              pos : neg    =     20.8 : 1.0\n",
      "                   pesci = True              pos : neg    =     20.8 : 1.0\n",
      "                  denial = True              pos : neg    =     20.8 : 1.0\n",
      "                   deeds = True              pos : neg    =     20.8 : 1.0\n",
      "                  cheeky = True              pos : neg    =     20.8 : 1.0\n",
      "             particulars = True              pos : neg    =     20.8 : 1.0\n",
      "                 existed = True              pos : neg    =     20.8 : 1.0\n",
      "                   tracy = True              pos : neg    =     20.8 : 1.0\n",
      "                   fiona = True              pos : neg    =     16.1 : 1.0\n",
      "                 michele = True              pos : neg    =     14.9 : 1.0\n",
      "                    lore = True              pos : neg    =     14.9 : 1.0\n",
      "                creeping = True              pos : neg    =     14.9 : 1.0\n",
      "                    1947 = True              pos : neg    =     14.9 : 1.0\n",
      "                   chess = True              pos : neg    =     14.9 : 1.0\n",
      "               successor = True              pos : neg    =     14.9 : 1.0\n",
      "                  humane = True              pos : neg    =     14.9 : 1.0\n",
      "               mcdormand = True              pos : neg    =     14.9 : 1.0\n",
      "                  banned = True              pos : neg    =     14.9 : 1.0\n",
      "               skarsgard = True              pos : neg    =     14.9 : 1.0\n",
      "               defensive = True              pos : neg    =     14.9 : 1.0\n",
      "            complicating = True              pos : neg    =     14.9 : 1.0\n",
      "                bankable = True              pos : neg    =     14.9 : 1.0\n",
      "                   binks = True              pos : neg    =     14.9 : 1.0\n",
      "                simpsons = True              pos : neg    =     14.9 : 1.0\n",
      "                reported = True              pos : neg    =     14.9 : 1.0\n",
      "                  kenobi = True              pos : neg    =     14.9 : 1.0\n",
      "                  fabric = True              pos : neg    =     14.9 : 1.0\n",
      "               reflected = True              pos : neg    =     14.9 : 1.0\n"
     ]
    }
   ],
   "source": [
    "# Reference: http://streamhacker.com/2010/05/10/text-classification-sentiment-analysis-naive-bayes-classifier/\n",
    "\n",
    "def word_features(words):\n",
    "    return dict([(word, True) for word in words])\n",
    " \n",
    "negrvws = mr.fileids('neg')\n",
    "posrvws = mr.fileids('pos')\n",
    " \n",
    "negfeatures = [(word_features(mr.words(fileids=[f])), 'neg') for f in negrvws]\n",
    "posfeatures = [(word_features(mr.words(fileids=[f])), 'pos') for f in posrvws]\n",
    " \n",
    "neglimit = len(negfeatures) * 90/100\n",
    "poslimit = len(posfeatures) * 10/100\n",
    " \n",
    "train_set2 = negfeatures[:neglimit] + posfeatures[:poslimit]\n",
    "test_set2 = negfeatures[neglimit:] + posfeatures[poslimit:]\n",
    " \n",
    "classifier2 = NaiveBayesClassifier.train(train_set2)\n",
    "print 'accuracy:', nltk.classify.util.accuracy(classifier2, test_set2)\n",
    "classifier2.show_most_informative_features(30)"
   ]
  },
  {
   "cell_type": "markdown",
   "metadata": {},
   "source": [
    "### Sampling of explanations as to why features are informative (classifier2, with 91.2% accuracy)"
   ]
  },
  {
   "cell_type": "markdown",
   "metadata": {},
   "source": [
    "Word | Sentiment | Explanation\n",
    "-------------|-------------|------------|\n",
    "evokes | pos |A word used in connection with strong emotion, real-life memories\n",
    "russo | pos |Model-turned actress, a beautiful woman is a box office draw\n",
    "unshaven| pos |Stereotypically, unshaven men are often considered wild, dangerous, sexy (box office draw)\n",
    "bankable | pos |Bankable is a positive quality\n",
    "binks | pos |Surprising, since Jar Jar Binks was a despised character in Star Wars: Episode I - The Phantom Menace\n",
    "banned | pos | Possibly surprising, unless it refers to movies that are banned in other countries, or are no longer banned in the US\n"
   ]
  }
 ],
 "metadata": {
  "anaconda-cloud": {},
  "kernelspec": {
   "display_name": "Python [default]",
   "language": "python",
   "name": "python2"
  },
  "language_info": {
   "codemirror_mode": {
    "name": "ipython",
    "version": 2
   },
   "file_extension": ".py",
   "mimetype": "text/x-python",
   "name": "python",
   "nbconvert_exporter": "python",
   "pygments_lexer": "ipython2",
   "version": "2.7.12"
  }
 },
 "nbformat": 4,
 "nbformat_minor": 1
}
